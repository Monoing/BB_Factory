{
  "nbformat": 4,
  "nbformat_minor": 0,
  "metadata": {
    "colab": {
      "provenance": []
    },
    "kernelspec": {
      "name": "python3",
      "display_name": "Python 3"
    },
    "language_info": {
      "name": "python"
    }
  },
  "cells": [
    {
      "cell_type": "code",
      "source": [
        "import requests\n",
        "import pandas as pd"
      ],
      "metadata": {
        "id": "OXgAvp9YmSAD"
      },
      "execution_count": null,
      "outputs": []
    },
    {
      "cell_type": "markdown",
      "source": [
        "https://opendata.dbd.go.th/dataset/dataset_11_03/resource/bc6ed576-dee1-4b72-b144-e11c8d122e26"
      ],
      "metadata": {
        "id": "360j8Qt7_L_2"
      }
    },
    {
      "cell_type": "markdown",
      "source": [
        "https://openapi.dbd.go.th/api/v1/juristic_person/{winner_tin}"
      ],
      "metadata": {
        "id": "wQ6ChgtOy0GV"
      }
    },
    {
      "cell_type": "code",
      "source": [
        "data = pd.read_excel('/content/drive/MyDrive/สำรวจบริษัทเล่ม2569/รวมบริษัทรถจักยานยนต์.xlsx', dtype=str) #ใส่ไฟล์บริษัทที่มีcolumn.winner_tin\n",
        "data.winner_tin.head()"
      ],
      "metadata": {
        "id": "Iz6LrDBUj9Dw",
        "colab": {
          "base_uri": "https://localhost:8080/",
          "height": 240
        },
        "outputId": "cc15ce14-b363-4fab-fe06-9aa4d7a4fb61"
      },
      "execution_count": null,
      "outputs": [
        {
          "output_type": "execute_result",
          "data": {
            "text/plain": [
              "0    0705530000014\n",
              "1    0645557000326\n",
              "2    0353521000050\n",
              "3    0505559001070\n",
              "4    0505535003471\n",
              "Name: winner_tin, dtype: object"
            ],
            "text/html": [
              "<div>\n",
              "<style scoped>\n",
              "    .dataframe tbody tr th:only-of-type {\n",
              "        vertical-align: middle;\n",
              "    }\n",
              "\n",
              "    .dataframe tbody tr th {\n",
              "        vertical-align: top;\n",
              "    }\n",
              "\n",
              "    .dataframe thead th {\n",
              "        text-align: right;\n",
              "    }\n",
              "</style>\n",
              "<table border=\"1\" class=\"dataframe\">\n",
              "  <thead>\n",
              "    <tr style=\"text-align: right;\">\n",
              "      <th></th>\n",
              "      <th>winner_tin</th>\n",
              "    </tr>\n",
              "  </thead>\n",
              "  <tbody>\n",
              "    <tr>\n",
              "      <th>0</th>\n",
              "      <td>0705530000014</td>\n",
              "    </tr>\n",
              "    <tr>\n",
              "      <th>1</th>\n",
              "      <td>0645557000326</td>\n",
              "    </tr>\n",
              "    <tr>\n",
              "      <th>2</th>\n",
              "      <td>0353521000050</td>\n",
              "    </tr>\n",
              "    <tr>\n",
              "      <th>3</th>\n",
              "      <td>0505559001070</td>\n",
              "    </tr>\n",
              "    <tr>\n",
              "      <th>4</th>\n",
              "      <td>0505535003471</td>\n",
              "    </tr>\n",
              "  </tbody>\n",
              "</table>\n",
              "</div><br><label><b>dtype:</b> object</label>"
            ]
          },
          "metadata": {},
          "execution_count": 2
        }
      ]
    },
    {
      "cell_type": "markdown",
      "source": [
        "เปลี่ยนชื่อ file output ด้วย\n"
      ],
      "metadata": {
        "id": "WPezPFHGnMt7"
      }
    },
    {
      "cell_type": "code",
      "source": [
        "test_data = []\n",
        "for i in data.winner_tin:\n",
        "    url = 'https://openapi.dbd.go.th/api/v1/juristic_person/' + i\n",
        "    response = requests.get(url)\n",
        "    res_text =response.json()\n",
        "\n",
        "    data_list = res_text['data']\n",
        "    winner_code = data_list[0]['cd:OrganizationJuristicPerson']['cd:OrganizationJuristicID']\n",
        "    name_comp = data_list[0]['cd:OrganizationJuristicPerson']['cd:OrganizationJuristicNameTH']\n",
        "\n",
        "    prep_addr = data_list[0]['cd:OrganizationJuristicPerson']['cd:OrganizationJuristicAddress']['cr:AddressType']\n",
        "    addr = prep_addr['cd:Address']\n",
        "    tumbon = prep_addr['cd:CitySubDivision']['cr:CitySubDivisionTextTH']\n",
        "    ampher = prep_addr['cd:City']['cr:CityTextTH']\n",
        "    country = prep_addr['cd:CountrySubDivision']['cr:CountrySubDivisionTextTH']\n",
        "\n",
        "    test_data.append({\n",
        "        'winner_code': winner_code,\n",
        "        'name_comp': name_comp,\n",
        "        'addr': addr,\n",
        "        'tumbon': tumbon,\n",
        "        'ampher': ampher,\n",
        "        'country': country})\n",
        "\n",
        "\n",
        "df = pd.DataFrame(test_data)\n",
        "#เปรียบเทียบฐานข้อมูลไปษณีย์\n",
        "code_post  = pd.read_excel('/content/drive/MyDrive/สำรวจบริษัทเล่ม2569/code_list.xlsx')#ไฟล์ไปรษณีย์code_list\n",
        "merged = pd.merge(df, code_post[['รหัส / code','ตำบล/แขวง', \"จังหวัด\"]], left_on=[\"tumbon\", \"country\"], right_on=['ตำบล/แขวง', \"จังหวัด\"], how=\"left\")\n",
        "merged = merged.drop(columns=['ตำบล/แขวง', \"จังหวัด\"])\n",
        "merged.to_excel(\"รถจักยานยนต์_output.xlsx\", index=False)\n",
        "print('complete')"
      ],
      "metadata": {
        "colab": {
          "base_uri": "https://localhost:8080/"
        },
        "id": "m1EMdNR1kSOi",
        "outputId": "401688a2-d63d-45f4-f157-dde59ebf4cb0"
      },
      "execution_count": null,
      "outputs": [
        {
          "output_type": "stream",
          "name": "stdout",
          "text": [
            "complete\n"
          ]
        }
      ]
    },
    {
      "cell_type": "markdown",
      "source": [
        "กรณี eror run ด้านล่างเพื่อตรวจสอบและรวมไฟล์ที่สำเร็จ"
      ],
      "metadata": {
        "id": "FGp35aTnXUaT"
      }
    },
    {
      "cell_type": "code",
      "source": [
        "test_data"
      ],
      "metadata": {
        "id": "ImqL2EPOJoRc"
      },
      "execution_count": null,
      "outputs": []
    },
    {
      "cell_type": "code",
      "source": [
        "df = pd.DataFrame(test_data)\n",
        "#เปรียบเทียบฐานข้อมูลไปษณีย์\n",
        "code_post  = pd.read_excel('/content/drive/MyDrive/สำรวจบริษัทเล่ม2569/code_list.xlsx')#ไฟล์ไปรษณีย์code_list\n",
        "merged = pd.merge(df, code_post[['รหัส / code','ตำบล/แขวง', \"จังหวัด\"]], left_on=[\"tumbon\", \"country\"], right_on=['ตำบล/แขวง', \"จังหวัด\"], how=\"left\")\n",
        "merged = merged.drop(columns=['ตำบล/แขวง', \"จังหวัด\"])\n",
        "merged.to_excel(\"เครื่องซักผ้า_output.xlsx\", index=False)\n",
        "print('complete')"
      ],
      "metadata": {
        "colab": {
          "base_uri": "https://localhost:8080/"
        },
        "id": "b5iLlSogV9pY",
        "outputId": "f266a8c9-673c-4e2c-a905-8bd648620d19"
      },
      "execution_count": null,
      "outputs": [
        {
          "output_type": "stream",
          "name": "stdout",
          "text": [
            "complete\n"
          ]
        }
      ]
    }
  ]
}